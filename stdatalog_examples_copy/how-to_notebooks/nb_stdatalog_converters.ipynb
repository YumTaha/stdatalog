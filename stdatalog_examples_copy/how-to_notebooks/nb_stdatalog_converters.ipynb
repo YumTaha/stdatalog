{
 "cells": [
  {
   "attachments": {},
   "cell_type": "markdown",
   "metadata": {},
   "source": [
    "# How to Use stdatalog_core Package - \\[Data Format Conversion Features\\]\n",
    "---\n",
    "<br>\n",
    "<p>In this notebook, we will explore how to use the `stdatalog_core` package, specifically focusing on data format conversion features. This guide will walk you through the process of importing necessary modules, initializing objects, and converting data into various formats.</p>\n",
    "\n",
    "## Important Notice\n",
    "Please ensure to check the names of the exported files to avoid overwriting any existing files. This is crucial when running multiple conversions or working with different datasets."
   ]
  },
  {
   "cell_type": "code",
   "execution_count": null,
   "metadata": {},
   "outputs": [],
   "source": [
    "import sys\n",
    "import os\n",
    "\n",
    "# Add the STDatalog SDK root directory to the sys.path to access the SDK packages\n",
    "sys.path.append(os.path.abspath(os.path.join(os.getcwd(), '../..')))\n",
    "\n",
    "from stdatalog_core.HSD.HSDatalog import HSDatalog"
   ]
  },
  {
   "cell_type": "markdown",
   "metadata": {},
   "source": [
    "<span style=\"font-style: italic; color:#909090;\"><span style=\"color:cyan;\">*[Notebook utils] </span> -> Update this string to select the right acquisition folder</span>"
   ]
  },
  {
   "cell_type": "code",
   "execution_count": 5,
   "metadata": {},
   "outputs": [],
   "source": [
    "#acquisition_folder = \"path/to/your/acquisition_folder\"\n",
    "acquisition_folder = \"C:\\\\00_PROJECTs\\\\00_STDATALOG_PYSDK_DEV\\\\STDATALOG_PYSDK\\\\20241127_18_03_04\""
   ]
  },
  {
   "cell_type": "markdown",
   "metadata": {},
   "source": [
    "## Initialize HSDatalog Object and Validate Acquisition Folder\n",
    "We will initialize the `HSDatalog` object and validate the acquisition folder. This step ensures that the folder contains the necessary data and is in the correct format.\n",
    "<span style=\"color:#909090;\">[FP-SNS-DATALOG1 and FP-SNS-DATALOG2 acquisition formats are supported]</span>"
   ]
  },
  {
   "cell_type": "code",
   "execution_count": 6,
   "metadata": {},
   "outputs": [
    {
     "name": "stdout",
     "output_type": "stream",
     "text": [
      "HSD Version: HSDVersion.V2\n",
      "\n",
      "2024-11-28 11:44:31,878 - HSDatalogApp.stdatalog_pnpl.DTDL.device_template_manager - INFO - dtmi found locally in base supported models\n",
      "2024-11-28 11:44:31,878 - HSDatalogApp.stdatalog_pnpl.DTDL.device_template_manager - INFO - dtmi: dtmi/appconfig/steval_stwinbx1/FP_SNS_DATALOG2_Datalog2-7.json\n"
     ]
    }
   ],
   "source": [
    "hsd = HSDatalog()\n",
    "hsd_version = hsd.validate_hsd_folder(acquisition_folder)\n",
    "print(f\"HSD Version: {hsd_version}\\n\")\n",
    "\n",
    "hsd_instance = hsd.create_hsd(acquisition_folder=acquisition_folder)"
   ]
  },
  {
   "cell_type": "markdown",
   "metadata": {},
   "source": [
    "## Extract DataFrames from HSDatalog Instance\n",
    "The created `HSDatalog` instance will be used to extract Pandas dataframes from an HSDatalog acquisition folder. Ensure to change the `sensor_name` string to a valid sensor name available in your acquisition folder."
   ]
  },
  {
   "cell_type": "code",
   "execution_count": 7,
   "metadata": {},
   "outputs": [
    {
     "name": "stdout",
     "output_type": "stream",
     "text": [
      "[             Time   A_x [g]   A_y [g]   A_z [g]\n",
      "0        0.037796  0.402112  0.110776  0.899384\n",
      "1        0.037940  0.401624  0.109312  0.896456\n",
      "2        0.038084  0.399184  0.107360  0.893040\n",
      "3        0.038229  0.396744  0.111264  0.895968\n",
      "4        0.038373  0.395768  0.102480  0.895968\n",
      "...           ...       ...       ...       ...\n",
      "131995  18.990073  0.441152 -0.219600  0.811544\n",
      "131996  18.990217  0.467504 -0.212280  0.807640\n",
      "131997  18.990361  0.489952 -0.206424  0.807152\n",
      "131998  18.990504  0.494344 -0.202032  0.807640\n",
      "131999  18.990648  0.497272 -0.199104  0.806176\n",
      "\n",
      "[132000 rows x 4 columns],           Time   A_x [g]   A_y [g]   A_z [g]\n",
      "0    18.990791  0.496296 -0.203496  0.801784\n",
      "1    18.990935  0.487024 -0.201544  0.800808\n",
      "2    18.991078  0.494832 -0.205448  0.792512\n",
      "3    18.991222  0.501664 -0.206912  0.785192\n",
      "4    18.991366  0.481168 -0.208864  0.793488\n",
      "..         ...       ...       ...       ...\n",
      "995  19.133648  0.597800 -0.200080  0.795928\n",
      "996  19.133792  0.595360 -0.200568  0.798856\n",
      "997  19.133935  0.595360 -0.200568  0.796416\n",
      "998  19.134079  0.596336 -0.201544  0.797392\n",
      "999  19.134223  0.591944 -0.198616  0.797392\n",
      "\n",
      "[1000 rows x 4 columns]]\n"
     ]
    }
   ],
   "source": [
    "sensor_name = \"ism330dhcx_acc\"\n",
    "try:\n",
    "    sensor =  hsd.get_sensor(hsd_instance, sensor_name)\n",
    "    dataframe = hsd.get_dataframe(hsd_instance, sensor)\n",
    "    print(dataframe)\n",
    "except Exception as e:\n",
    "    print(f\"Error: No [{sensor_name}] sensor available in your selected acquisition folder. Please check the sensor name and try again.\")"
   ]
  },
  {
   "cell_type": "markdown",
   "metadata": {},
   "source": [
    "# Data Conversion\n",
    "---\n",
    "<p>Using the `HSDatalog` module, it is possible to convert the data of an acquisition into various formats. The supported formats include:</p>\n",
    "<ul>\n",
    "<li> CSV, TSV, Apache Parquet, HDF5, TXT (also split into different folders by tags)</li>\n",
    "<li> Nanoedge format</li>\n",
    "<li> ST UNICO format (with variants)</li>\n",
    "<li> WAV</li>\n",
    "</ul>\n",
    "\n",
    "First, create an output folder to host the converted files."
   ]
  },
  {
   "cell_type": "code",
   "execution_count": 8,
   "metadata": {},
   "outputs": [],
   "source": [
    "import os\n",
    "\n",
    "output_folder = \".\\\\HSD_Exported_data_folder\"\n",
    "if not os.path.exists(output_folder):\n",
    "    os.makedirs(output_folder)"
   ]
  },
  {
   "cell_type": "markdown",
   "metadata": {},
   "source": [
    "## CSV, TSV, Apache Parquet, HDF5 and TXT Conversion\n",
    "In this section, we will demonstrate how to convert data into CSV, TSV, Apache Parquet and HDF5 formats. We will also show how to handle TXT or CSV conversion by tags."
   ]
  },
  {
   "cell_type": "markdown",
   "metadata": {},
   "source": [
    "### CSV and TSV Conversion Examples\n",
    "Below are examples of how to convert data to CSV and TSV formats. Note that the `convert_dat_to_xsv` function is used for these conversions with the `file_format` parameter set to either `CSV` or `TSV`."
   ]
  },
  {
   "cell_type": "code",
   "execution_count": 9,
   "metadata": {},
   "outputs": [
    {
     "name": "stdout",
     "output_type": "stream",
     "text": [
      "To CSV conversion started...\n",
      "To CSV conversion completed.\n",
      "To TSV conversion started...\n",
      "To TSV conversion completed.\n"
     ]
    }
   ],
   "source": [
    "from stdatalog_core.HSD_utils.exceptions import MissingTagsException\n",
    "\n",
    "exported_sensor_path = os.path.join(output_folder, sensor_name)\n",
    "\n",
    "print(f\"To CSV conversion started...\")\n",
    "hsd.convert_dat_to_xsv(hsd_instance, sensor, start_time=0, end_time=-1, labeled=False, raw_data=False, output_folder=output_folder, file_format=\"CSV\")\n",
    "print(f\"To CSV conversion completed.\")\n",
    "print(f\"To TSV conversion started...\")\n",
    "try:\n",
    "    hsd.convert_dat_to_xsv(hsd_instance, sensor, start_time=0, end_time=-1, labeled=True, raw_data=True, output_folder=output_folder, file_format=\"TSV\")\n",
    "    print(f\"To TSV conversion completed.\")\n",
    "except MissingTagsException as e:\n",
    "    print(f\"Error: No tags are present in your input acquisition folder. Please use labeled=False parameter or select a labeled acquisition.\")"
   ]
  },
  {
   "cell_type": "markdown",
   "metadata": {},
   "source": [
    "### Apache Parquet Conversion Example\n",
    "Below is an example of how to convert data to Apache Parquet format. Note that the `convert_dat_to_xsv` function is used for this conversion with the `file_format` parameter set to 'PARQUET'."
   ]
  },
  {
   "cell_type": "code",
   "execution_count": 10,
   "metadata": {},
   "outputs": [
    {
     "name": "stdout",
     "output_type": "stream",
     "text": [
      "To Apache Parquet conversion started...\n",
      "To Apache Parquet conversion completed.\n"
     ]
    }
   ],
   "source": [
    "print(f\"To Apache Parquet conversion started...\")\n",
    "hsd.convert_dat_to_xsv(hsd_instance, sensor, start_time=0, end_time=-1, labeled=False, raw_data=False, output_folder=output_folder, file_format=\"PARQUET\")\n",
    "print(f\"To Apache Parquet conversion completed.\")"
   ]
  },
  {
   "cell_type": "markdown",
   "metadata": {},
   "source": [
    "### HDF5 Format Conversion Example\n",
    "Below is an example of how to convert data to HDF5 format. Note that the `convert_acquisition_to_hdf5` function is used for this conversion.\n",
    "The output file will be saved in the specified output folder named as `acquisition.h5`. You can also specify other parameters to personalize the converted output file.\n",
    "- *Please refer to the `convert_acquisition_to_hdf5` docstring for more information.*"
   ]
  },
  {
   "cell_type": "code",
   "execution_count": 12,
   "metadata": {},
   "outputs": [
    {
     "name": "stdout",
     "output_type": "stream",
     "text": [
      "Converting acquisition to HDF5 format started...\n",
      "Converting acquisition to HDF5 format completed.\n"
     ]
    }
   ],
   "source": [
    "print(f\"Converting acquisition to HDF5 format started...\")\n",
    "components = hsd.get_sensor_list(hsd_instance, only_active=True)\n",
    "hsd.convert_acquisition_to_hdf5(hsd_instance, components, start_time=0, end_time=-1, labeled=False, output_folder=output_folder, raw_data=False, which_tags=[])\n",
    "print(f\"Converting acquisition to HDF5 format completed.\")"
   ]
  },
  {
   "cell_type": "markdown",
   "metadata": {},
   "source": [
    "### TXT, CSV Conversion by Tags\n",
    "When an acquisition has been recorded with labels, it is possible to convert .dat files considering those labels. Below are examples of how to convert data to TXT format, filtered by tags."
   ]
  },
  {
   "cell_type": "code",
   "execution_count": null,
   "metadata": {},
   "outputs": [],
   "source": [
    "print(f\"To TXT Conversion filtered by tags started...\")\n",
    "hsd.convert_dat_to_txt_by_tags(hsd_instance, sensor, start_time=0, end_time=-1, output_folder=output_folder, with_untagged = False, out_format=\"TXT\")\n",
    "print(f\"To TXT Conversion filtered by tags completed.\")\n",
    "print(f\"To TXT Conversion filtered by tags (with untagged folder) started...\")\n",
    "hsd.convert_dat_to_txt_by_tags(hsd_instance, sensor, start_time=0, end_time=-1, output_folder=output_folder, with_untagged = True, out_format=\"CSV\")\n",
    "print(f\"To TXT Conversion filtered by tags (with untagged folder) completed.\")"
   ]
  },
  {
   "cell_type": "markdown",
   "metadata": {},
   "source": [
    "## Nanoedge Format Conversion\n",
    "Below an example of how to convert .dat files to Nanoedge format."
   ]
  },
  {
   "cell_type": "code",
   "execution_count": null,
   "metadata": {},
   "outputs": [],
   "source": [
    "print(f\"To Nanoedge format conversion started...\")\n",
    "hsd.convert_dat_to_nanoedge(hsd_instance, sensor, signal_length=1000, signal_increment=500, start_time=0, end_time=-1, raw_data=False, output_folder=output_folder)\n",
    "print(f\"To Nanoedge format conversion completed.\")"
   ]
  },
  {
   "cell_type": "markdown",
   "metadata": {},
   "source": [
    "## ST UNICO Format Conversion\n",
    "Below are examples of how to convert .dat files to ST UNICO format for both unlabeled and labeled acquisitions.\n",
    "\n",
    "### Unlabeled Acquisition\n",
    "Even if present, the tag data in the acquisition is not used."
   ]
  },
  {
   "cell_type": "code",
   "execution_count": null,
   "metadata": {},
   "outputs": [],
   "source": [
    "print(f\"To Unico format conversion started...\")\n",
    "hsd.convert_dat_to_unico(hsd_instance, [sensor], start_time=0, end_time=-1, use_datalog_tags=False, output_folder=output_folder, out_format=\"TXT\")\n",
    "print(f\"To Unico format conversion completed.\")"
   ]
  },
  {
   "cell_type": "markdown",
   "metadata": {},
   "source": [
    "### Labeled Acquisition\n",
    "If available, the tag data are read and used to split the converted files."
   ]
  },
  {
   "cell_type": "code",
   "execution_count": null,
   "metadata": {},
   "outputs": [],
   "source": [
    "print(f\"To Unico format conversion started...\")\n",
    "hsd.convert_dat_to_unico(hsd_instance, [sensor], start_time=0, end_time=-1, use_datalog_tags=True, output_folder=output_folder, out_format=\"CSV\")\n",
    "print(f\"To Unico format conversion completed.\")"
   ]
  },
  {
   "cell_type": "markdown",
   "metadata": {},
   "source": [
    "### Aggregated Data\n",
    "Aggregated data can be saved in different files (one per tag group) or as a single file.\n",
    "\n",
    "- ##### Single File Aggregated Data\n",
    "A single aggregated file is generated as output."
   ]
  },
  {
   "cell_type": "code",
   "execution_count": null,
   "metadata": {},
   "outputs": [],
   "source": [
    "print(f\"To Unico (\\\"single_file\\\" Aggregated) format conversion started...\")\n",
    "hsd.convert_dat_to_unico_aggregated(hsd_instance, aggregation=\"single_file\", start_time=0, end_time=-1, use_datalog_tags=False, output_folder=output_folder, with_untagged = True, out_format=\"CSV\")\n",
    "print(f\"To Unico (\\\"single_file\\\" Aggregated) format conversion completed.\")"
   ]
  },
  {
   "cell_type": "markdown",
   "metadata": {},
   "source": [
    "- ##### Split Per Tags Aggregated Data\n",
    "Aggregated data are saved in different files (one per tag group, organized in one folder per tag class)."
   ]
  },
  {
   "cell_type": "code",
   "execution_count": null,
   "metadata": {},
   "outputs": [],
   "source": [
    "print(f\"To Unico (\\\"split_per_tags\\\" Aggregated) format conversion started...\")\n",
    "hsd.convert_dat_to_unico_aggregated(hsd_instance, aggregation=\"split_per_tags\", start_time=0, end_time=-1, use_datalog_tags=True, output_folder=output_folder, with_untagged = False, out_format=\"CSV\")\n",
    "print(f\"To Unico (\\\"split_per_tags\\\" Aggregated) format conversion completed.\")\n",
    "print(f\"To Unico (\\\"split_per_tags\\\" Aggregated, with untagged folder) format conversion started...\")\n",
    "hsd.convert_dat_to_unico_aggregated(hsd_instance, aggregation=\"split_per_tags\", start_time=0, end_time=-1, use_datalog_tags=True, output_folder=output_folder, with_untagged = True, out_format=\"TXT\")\n",
    "print(f\"To Unico (\\\"split_per_tags\\\" Aggregated), with untagged folder format conversion completed.\")"
   ]
  },
  {
   "attachments": {},
   "cell_type": "markdown",
   "metadata": {},
   "source": [
    "## WAV Conversion\n",
    "The WAV format is used for audio data. Below is an example of how to convert data to WAV format."
   ]
  },
  {
   "cell_type": "code",
   "execution_count": null,
   "metadata": {},
   "outputs": [],
   "source": [
    "sensor_name = \"imp23absu_mic\"\n",
    "try:\n",
    "    sensor =  hsd.get_sensor(hsd_instance, sensor_name)\n",
    "except Exception as e:\n",
    "    print(f\"Error: No [{sensor_name}] sensor available in your selected acquisition folder. Please check the sensor name and try again.\")\n",
    "print(f\"To Wav conversion started...\")\n",
    "hsd.convert_dat_to_wav(hsd_instance, sensor, start_time=0, end_time=-1, output_folder=output_folder)\n",
    "print(f\"To Wav conversion completed.\")"
   ]
  }
 ],
 "metadata": {
  "kernelspec": {
   "display_name": ".venv",
   "language": "python",
   "name": "python3"
  },
  "language_info": {
   "codemirror_mode": {
    "name": "ipython",
    "version": 3
   },
   "file_extension": ".py",
   "mimetype": "text/x-python",
   "name": "python",
   "nbconvert_exporter": "python",
   "pygments_lexer": "ipython3",
   "version": "3.12.1"
  },
  "orig_nbformat": 2
 },
 "nbformat": 4,
 "nbformat_minor": 2
}
